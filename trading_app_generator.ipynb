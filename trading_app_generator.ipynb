{
 "cells": [
  {
   "cell_type": "markdown",
   "metadata": {},
   "source": [
    "# Imports & Settings"
   ]
  },
  {
   "cell_type": "code",
   "execution_count": 1,
   "metadata": {},
   "outputs": [
    {
     "name": "stderr",
     "output_type": "stream",
     "text": [
      "\n",
      "[notice] A new release of pip is available: 24.0 -> 24.2\n",
      "[notice] To update, run: python.exe -m pip install --upgrade pip\n"
     ]
    }
   ],
   "source": [
    "!pip install -q streamlit"
   ]
  },
  {
   "cell_type": "code",
   "execution_count": 13,
   "metadata": {},
   "outputs": [],
   "source": [
    "import json\n",
    "import pandas as pd"
   ]
  },
  {
   "cell_type": "code",
   "execution_count": 19,
   "metadata": {},
   "outputs": [],
   "source": [
    "json_list = ['1ae.json', '1mc.json','aee.json','nrz.json','rez.json']\n",
    "\n",
    "df_list = []\n",
    "for j in json_list:\n",
    "    with open(j, 'r') as file:\n",
    "        data = json.load(file)\n",
    "    df = pd.DataFrame(data[\"data\"])\n",
    "    df_list.append(df)"
   ]
  },
  {
   "cell_type": "markdown",
   "metadata": {},
   "source": [
    "# Streamlit Code"
   ]
  },
  {
   "cell_type": "code",
   "execution_count": 43,
   "metadata": {},
   "outputs": [
    {
     "name": "stdout",
     "output_type": "stream",
     "text": [
      "Overwriting app.py\n"
     ]
    }
   ],
   "source": [
    "%%writefile app.py\n",
    "\n",
    "# Imports\n",
    "import streamlit as st\n",
    "import pandas as pd\n",
    "import numpy as np\n",
    "import json \n",
    "from st_aggrid import GridOptionsBuilder, AgGrid, GridUpdateMode, DataReturnMode\n",
    "\n",
    "\n",
    "st.set_page_config(layout='wide')\n",
    "# Creating the main page\n",
    "header_main = st.header(\"Trading App\", divider=\"gray\")\n",
    "\n",
    "#Retrieving Data\n",
    "\n",
    "json_list = ['1ae.json', '1mc.json','aee.json','nrz.json','rez.json']\n",
    "\n",
    "list_with_dfs = []\n",
    "for j in json_list:\n",
    "    with open(f\"retrieve_data/{j}\", 'r') as file:\n",
    "        data = json.load(file)\n",
    "    df = pd.DataFrame(data[\"data\"])\n",
    "    list_with_dfs.append(df)\n",
    "\n",
    "df  = pd.concat(list_with_dfs)\n",
    "\n",
    "# Retrieving issuer code filters here:\n",
    "\n",
    "values_of_filter = df['issuer_code'].unique()\n",
    "\n",
    "col1, col2 = st.columns(2)\n",
    "\n",
    "with col1:\n",
    "    filtered_values = st.multiselect('Select issuer code:',values_of_filter, values_of_filter)\n",
    "with col2: \n",
    "    st.write(\"Click in the check box below if you want to see only Trading Halt\")\n",
    "    check_box = st.checkbox(\"Only Show Trading Halt\", key=\"disabled\")\n",
    "\n",
    "# Using filters to filter the df\n",
    "filtered_df = df.copy()\n",
    "\n",
    "filtered_df = filtered_df[filtered_df['issuer_code'].isin(filtered_values)]\n",
    "\n",
    "if check_box:\n",
    "    filtered_df = filtered_df[filtered_df['header'] == \"Trading Halt\"]\n",
    "\n",
    "# Creating the table\n",
    "header_table = st.header(\"Table with applied filters :clipboard:\", divider = \"gray\")\n",
    "gb = GridOptionsBuilder.from_dataframe(filtered_df)\n",
    "gb.configure_pagination(paginationAutoPageSize=False, paginationPageSize=50) \n",
    "gb.configure_side_bar() \n",
    "gb.configure_selection('multiple', use_checkbox=True, groupSelectsChildren=\"Group checkbox select children\") \n",
    "gb.configure_grid_options(domLayout=\"normal\")\n",
    "gridOptions = gb.build()\n",
    "\n",
    "grid_response = AgGrid(\n",
    "    filtered_df,\n",
    "    gridOptions=gridOptions,\n",
    "    update_mode='MODEL_CHANGED',\n",
    "    fit_columns_on_grid_load=False,\n",
    "    theme='streamlit', \n",
    "    enable_enterprise_modules=True,\n",
    "    height=800,\n",
    "    width='100%',\n",
    "    reload_data=True,\n",
    "    custom_css={\"#gridToolBar\": {\"padding-bottom\": \"0px !important\"}},\n",
    "    data_return_mode = DataReturnMode.FILTERED_AND_SORTED)\n"
   ]
  }
 ],
 "metadata": {
  "kernelspec": {
   "display_name": "base",
   "language": "python",
   "name": "python3"
  },
  "language_info": {
   "codemirror_mode": {
    "name": "ipython",
    "version": 3
   },
   "file_extension": ".py",
   "mimetype": "text/x-python",
   "name": "python",
   "nbconvert_exporter": "python",
   "pygments_lexer": "ipython3",
   "version": "3.11.5"
  }
 },
 "nbformat": 4,
 "nbformat_minor": 2
}
